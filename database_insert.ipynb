{
 "cells": [
  {
   "cell_type": "code",
   "execution_count": 5,
   "metadata": {},
   "outputs": [],
   "source": [
    "import config"
   ]
  },
  {
   "cell_type": "code",
   "execution_count": 6,
   "metadata": {},
   "outputs": [],
   "source": [
    "from mysql.connector import errorcode"
   ]
  },
  {
   "cell_type": "code",
   "execution_count": 29,
   "metadata": {},
   "outputs": [],
   "source": [
    "import jake_playground"
   ]
  },
  {
   "cell_type": "code",
   "execution_count": 7,
   "metadata": {},
   "outputs": [],
   "source": [
    "import mysql.connector as mysql\n",
    "\n",
    "mydb = mysql.connect(\n",
    "  host=config.host,\n",
    "  user=config.admin,\n",
    "  passwd=config.password,\n",
    "  database='MLB_Stats'\n",
    ")\n",
    "\n",
    "mycursor = mydb.cursor()\n",
    "\n",
    "#mycursor.execute(\"CREATE DATABASE MLB_Stats\")"
   ]
  },
  {
   "cell_type": "code",
   "execution_count": 31,
   "metadata": {},
   "outputs": [],
   "source": [
    "tables = {}\n",
    "tables['games'] = (\n",
    "    \"CREATE TABLE games (\"\n",
    "    \"  gameid int(11) NOT NULL,\"\n",
    "    \"  game_end_datetime datetime(6) NOT NULL,\"\n",
    "    \"  game_date datetime(3) NOT NULL,\"\n",
    "    \"  home_id int(3) NOT NULL,\"\n",
    "    \"  away_id int(3) NOT NULL,\"\n",
    "    \"  status varchar(20) NOT NULL,\"\n",
    "    \"  PRIMARY KEY (gameid)\"\n",
    "    \") ENGINE=InnoDB\")"
   ]
  },
  {
   "cell_type": "code",
   "execution_count": 32,
   "metadata": {},
   "outputs": [],
   "source": [
    "tables['game_info'] = (\n",
    "    \"CREATE TABLE game_info (\"\n",
    "    \"  gameid int(11) NOT NULL,\"\n",
    "    \"  info_id int NOT NULL AUTO_INCREMENT,\"\n",
    "    \"  home_team_runs int(3) NOT NULL,\"\n",
    "    \"  away_team_runs int(3) NOT NULL,\"\n",
    "    \"  venue_id varchar(10) NOT NULL,\"\n",
    "    \"  weather_category varchar(30) NOT NULL,\"\n",
    "    \"  temp int(3) NOT NULL,\"\n",
    "    \"  wind_mph int(3) NOT NULL,\"\n",
    "    \"  wind_direction varchar(40) NOT NULL,\"\n",
    "    \"  PRIMARY KEY (info_id),\"\n",
    "    \"  FOREIGN KEY (gameid) REFERENCES games(gameid)\"\n",
    "    \") ENGINE=InnoDB\")"
   ]
  },
  {
   "cell_type": "code",
   "execution_count": 33,
   "metadata": {},
   "outputs": [],
   "source": [
    "tables['teams'] = (\n",
    "    \" CREATE TABLE teams(\"\n",
    "    \" team_id int(11) NOT NULL,\"\n",
    "    \" team_name VARCHAR(30) NOT NULL,\"\n",
    "    \" league VARCHAR(2) NOT NULL,\"\n",
    "    \" PRIMARY KEY (team_id)\"\n",
    "    \") ENGINE=InnoDB\")"
   ]
  },
  {
   "cell_type": "code",
   "execution_count": 34,
   "metadata": {},
   "outputs": [],
   "source": [
    "tables['venues'] = (\n",
    "    \" CREATE TABLE venue(\"\n",
    "    \" venue_id int(11) NOT NULL AUTO_INCREMENT,\"\n",
    "    \" team_id int(11) NOT NULL,\"\n",
    "    \" name VARCHAR(30) NOT NULL,\"\n",
    "    \" PRIMARY KEY (venue_id),\"\n",
    "    \" FOREIGN KEY (team_id) REFERENCES teams(team_id)\"\n",
    "    \") ENGINE=InnoDB\")"
   ]
  },
  {
   "cell_type": "code",
   "execution_count": 35,
   "metadata": {},
   "outputs": [
    {
     "name": "stdout",
     "output_type": "stream",
     "text": [
      "Creating table games: OK\n",
      "Creating table game_info: OK\n",
      "Creating table teams: already exists.\n",
      "Creating table venues: OK\n"
     ]
    }
   ],
   "source": [
    "for table_name in tables:\n",
    "    table_description = tables[table_name]\n",
    "    try:\n",
    "        print(\"Creating table {}: \".format(table_name), end='')\n",
    "        mycursor.execute(table_description)\n",
    "    except mysql.Error as err:\n",
    "        if err.errno == errorcode.ER_TABLE_EXISTS_ERROR:\n",
    "            print(\"already exists.\")\n",
    "        else:\n",
    "            print(err.msg)\n",
    "    else:\n",
    "        print(\"OK\")"
   ]
  },
  {
   "cell_type": "code",
   "execution_count": 36,
   "metadata": {},
   "outputs": [],
   "source": [
    "df = jake_playground.df"
   ]
  },
  {
   "cell_type": "code",
   "execution_count": 37,
   "metadata": {},
   "outputs": [
    {
     "data": {
      "text/html": [
       "<div>\n",
       "<style scoped>\n",
       "    .dataframe tbody tr th:only-of-type {\n",
       "        vertical-align: middle;\n",
       "    }\n",
       "\n",
       "    .dataframe tbody tr th {\n",
       "        vertical-align: top;\n",
       "    }\n",
       "\n",
       "    .dataframe thead th {\n",
       "        text-align: right;\n",
       "    }\n",
       "</style>\n",
       "<table border=\"1\" class=\"dataframe\">\n",
       "  <thead>\n",
       "    <tr style=\"text-align: right;\">\n",
       "      <th></th>\n",
       "      <th>gameid</th>\n",
       "      <th>game_end_datetime</th>\n",
       "      <th>game_date</th>\n",
       "      <th>status</th>\n",
       "      <th>home_id</th>\n",
       "      <th>away_id</th>\n",
       "    </tr>\n",
       "  </thead>\n",
       "  <tbody>\n",
       "    <tr>\n",
       "      <th>0</th>\n",
       "      <td>244193</td>\n",
       "      <td>2009-04-06 00:00:00</td>\n",
       "      <td>2009-04-05</td>\n",
       "      <td>Final</td>\n",
       "      <td>143</td>\n",
       "      <td>144</td>\n",
       "    </tr>\n",
       "    <tr>\n",
       "      <th>1</th>\n",
       "      <td>244201</td>\n",
       "      <td>2009-04-06 17:10:00</td>\n",
       "      <td>2009-04-06</td>\n",
       "      <td>Final</td>\n",
       "      <td>113</td>\n",
       "      <td>121</td>\n",
       "    </tr>\n",
       "    <tr>\n",
       "      <th>2</th>\n",
       "      <td>244195</td>\n",
       "      <td>2009-04-06 18:05:00</td>\n",
       "      <td>2009-04-06</td>\n",
       "      <td>Final</td>\n",
       "      <td>140</td>\n",
       "      <td>114</td>\n",
       "    </tr>\n",
       "    <tr>\n",
       "      <th>5</th>\n",
       "      <td>244196</td>\n",
       "      <td>2009-04-06 19:40:00</td>\n",
       "      <td>2009-04-06</td>\n",
       "      <td>Final</td>\n",
       "      <td>109</td>\n",
       "      <td>115</td>\n",
       "    </tr>\n",
       "    <tr>\n",
       "      <th>6</th>\n",
       "      <td>244200</td>\n",
       "      <td>2009-04-06 20:05:00</td>\n",
       "      <td>2009-04-06</td>\n",
       "      <td>Final</td>\n",
       "      <td>110</td>\n",
       "      <td>147</td>\n",
       "    </tr>\n",
       "  </tbody>\n",
       "</table>\n",
       "</div>"
      ],
      "text/plain": [
       "   gameid    game_end_datetime   game_date status  home_id  away_id\n",
       "0  244193  2009-04-06 00:00:00  2009-04-05  Final      143      144\n",
       "1  244201  2009-04-06 17:10:00  2009-04-06  Final      113      121\n",
       "2  244195  2009-04-06 18:05:00  2009-04-06  Final      140      114\n",
       "5  244196  2009-04-06 19:40:00  2009-04-06  Final      109      115\n",
       "6  244200  2009-04-06 20:05:00  2009-04-06  Final      110      147"
      ]
     },
     "execution_count": 37,
     "metadata": {},
     "output_type": "execute_result"
    }
   ],
   "source": [
    "df = df[['gameid','game_end_datetime','game_date','status','home_id','away_id']]\n",
    "df.head()"
   ]
  },
  {
   "cell_type": "code",
   "execution_count": 38,
   "metadata": {},
   "outputs": [],
   "source": [
    "tuples = [tuple(x) for x in df.values]"
   ]
  },
  {
   "cell_type": "code",
   "execution_count": 39,
   "metadata": {},
   "outputs": [
    {
     "data": {
      "text/plain": [
       "(26325, (244193, '2009-04-06 00:00:00', '2009-04-05', 'Final', 143, 144))"
      ]
     },
     "execution_count": 39,
     "metadata": {},
     "output_type": "execute_result"
    }
   ],
   "source": [
    "len(tuples), tuples[0]"
   ]
  },
  {
   "cell_type": "code",
   "execution_count": 40,
   "metadata": {},
   "outputs": [],
   "source": [
    "statement = \"\"\"INSERT IGNORE INTO games \n",
    "               (gameid, game_end_datetime, game_date, status, home_id, away_id)\n",
    "               VALUES (%s, %s, %s, %s, %s, %s)\"\"\""
   ]
  },
  {
   "cell_type": "code",
   "execution_count": 41,
   "metadata": {},
   "outputs": [],
   "source": [
    "for i in range(len(tuples)):\n",
    "    try:\n",
    "        mycursor.execute(statement, tuples[i])\n",
    "        mydb.commit()\n",
    "    except:\n",
    "        print(i)"
   ]
  },
  {
   "cell_type": "code",
   "execution_count": 8,
   "metadata": {},
   "outputs": [],
   "source": [
    "stmt = \"\"\"SELECT gameid from games\"\"\"\n",
    "mycursor.execute(stmt)"
   ]
  },
  {
   "cell_type": "code",
   "execution_count": 9,
   "metadata": {},
   "outputs": [],
   "source": [
    "ids = []\n",
    "for obj in mycursor:\n",
    "    ids.append(obj[0])"
   ]
  },
  {
   "cell_type": "code",
   "execution_count": 10,
   "metadata": {},
   "outputs": [
    {
     "data": {
      "text/plain": [
       "26325"
      ]
     },
     "execution_count": 10,
     "metadata": {},
     "output_type": "execute_result"
    }
   ],
   "source": [
    "len(ids)"
   ]
  },
  {
   "cell_type": "code",
   "execution_count": 30,
   "metadata": {},
   "outputs": [],
   "source": [
    "import game_log_parse"
   ]
  },
  {
   "cell_type": "code",
   "execution_count": null,
   "metadata": {},
   "outputs": [],
   "source": [
    "statement = \"\"\"INSERT IGNORE INTO game_info \n",
    "               (gameid, home_team_runs, away_team_runs, venue_id, weather_category, temp, wind_mph, wind_direction)\n",
    "               VALUES (%s, %s, %s, %s, %s, %s, %s, %s,)\"\"\""
   ]
  },
  {
   "cell_type": "code",
   "execution_count": 12,
   "metadata": {},
   "outputs": [],
   "source": [
    "a= game_log_parse.box_upload_get(ids[0])"
   ]
  },
  {
   "cell_type": "code",
   "execution_count": 13,
   "metadata": {},
   "outputs": [
    {
     "data": {
      "text/plain": [
       "{'away_team_runs': 4,\n",
       " 'gameid': 244193,\n",
       " 'home_team_runs': 1,\n",
       " 'temp': 60,\n",
       " 'venue_id': 2681,\n",
       " 'weather_category': 'clear',\n",
       " 'wind_direction': 'out to cf',\n",
       " 'wind_mph': 10}"
      ]
     },
     "execution_count": 13,
     "metadata": {},
     "output_type": "execute_result"
    }
   ],
   "source": [
    "a"
   ]
  },
  {
   "cell_type": "code",
   "execution_count": 16,
   "metadata": {},
   "outputs": [],
   "source": [
    "def upload_game(game_dict):\n",
    "    stmt = statement = \"\"\"INSERT IGNORE INTO game_info \n",
    "               (gameid, home_team_runs, away_team_runs, venue_id, weather_category, temp, wind_mph, wind_direction)\n",
    "               VALUES (%(gameid)s, %(home_team_runs)s, %(away_team_runs)s, %(venue_id)s, %(weather_category)s, %(temp)s, %(wind_mph)s, %(wind_direction)s)\"\"\"\n",
    "    mycursor.execute(stmt, game_dict)"
   ]
  },
  {
   "cell_type": "code",
   "execution_count": 17,
   "metadata": {},
   "outputs": [],
   "source": [
    "upload_game(a)\n",
    "mydb.commit()"
   ]
  },
  {
   "cell_type": "code",
   "execution_count": 18,
   "metadata": {},
   "outputs": [],
   "source": [
    "games_uploaded = []\n",
    "not_uploaded = []\n",
    "for game in ids[1:]:\n",
    "    try:\n",
    "        upload = game_log_parse.box_upload_get(game)\n",
    "        upload_game(upload)\n",
    "        mydb.commit()\n",
    "        games_uploaded.append(game)\n",
    "    except:\n",
    "        not_uploaded.append(game)\n"
   ]
  },
  {
   "cell_type": "code",
   "execution_count": 19,
   "metadata": {},
   "outputs": [
    {
     "data": {
      "text/plain": [
       "4"
      ]
     },
     "execution_count": 19,
     "metadata": {},
     "output_type": "execute_result"
    }
   ],
   "source": [
    "len(not_uploaded)"
   ]
  },
  {
   "cell_type": "code",
   "execution_count": 32,
   "metadata": {},
   "outputs": [
    {
     "data": {
      "text/plain": [
       "244194"
      ]
     },
     "execution_count": 32,
     "metadata": {},
     "output_type": "execute_result"
    }
   ],
   "source": [
    "games_uploaded[0]"
   ]
  },
  {
   "cell_type": "code",
   "execution_count": null,
   "metadata": {},
   "outputs": [],
   "source": []
  }
 ],
 "metadata": {
  "kernelspec": {
   "display_name": "Python 3",
   "language": "python",
   "name": "python3"
  },
  "language_info": {
   "codemirror_mode": {
    "name": "ipython",
    "version": 3
   },
   "file_extension": ".py",
   "mimetype": "text/x-python",
   "name": "python",
   "nbconvert_exporter": "python",
   "pygments_lexer": "ipython3",
   "version": "3.6.4"
  }
 },
 "nbformat": 4,
 "nbformat_minor": 2
}
