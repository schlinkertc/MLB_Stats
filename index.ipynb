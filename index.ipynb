{
 "cells": [
  {
   "cell_type": "code",
   "execution_count": 25,
   "metadata": {},
   "outputs": [],
   "source": [
    "import statsapi as mlb\n",
    "import pandas as pd\n",
    "import query_helper\n",
    "import charlie_functions\n",
    "import time"
   ]
  },
  {
   "cell_type": "code",
   "execution_count": 29,
   "metadata": {},
   "outputs": [
    {
     "data": {
      "text/html": [
       "<div>\n",
       "<style scoped>\n",
       "    .dataframe tbody tr th:only-of-type {\n",
       "        vertical-align: middle;\n",
       "    }\n",
       "\n",
       "    .dataframe tbody tr th {\n",
       "        vertical-align: top;\n",
       "    }\n",
       "\n",
       "    .dataframe thead th {\n",
       "        text-align: right;\n",
       "    }\n",
       "</style>\n",
       "<table border=\"1\" class=\"dataframe\">\n",
       "  <thead>\n",
       "    <tr style=\"text-align: right;\">\n",
       "      <th></th>\n",
       "      <th>id</th>\n",
       "      <th>name</th>\n",
       "      <th>league</th>\n",
       "    </tr>\n",
       "  </thead>\n",
       "  <tbody>\n",
       "    <tr>\n",
       "      <td>0</td>\n",
       "      <td>133</td>\n",
       "      <td>Oakland Athletics</td>\n",
       "      <td>AL</td>\n",
       "    </tr>\n",
       "    <tr>\n",
       "      <td>1</td>\n",
       "      <td>134</td>\n",
       "      <td>Pittsburgh Pirates</td>\n",
       "      <td>NL</td>\n",
       "    </tr>\n",
       "    <tr>\n",
       "      <td>2</td>\n",
       "      <td>135</td>\n",
       "      <td>San Diego Padres</td>\n",
       "      <td>NL</td>\n",
       "    </tr>\n",
       "    <tr>\n",
       "      <td>3</td>\n",
       "      <td>136</td>\n",
       "      <td>Seattle Mariners</td>\n",
       "      <td>AL</td>\n",
       "    </tr>\n",
       "    <tr>\n",
       "      <td>4</td>\n",
       "      <td>137</td>\n",
       "      <td>San Francisco Giants</td>\n",
       "      <td>NL</td>\n",
       "    </tr>\n",
       "    <tr>\n",
       "      <td>5</td>\n",
       "      <td>138</td>\n",
       "      <td>St. Louis Cardinals</td>\n",
       "      <td>NL</td>\n",
       "    </tr>\n",
       "    <tr>\n",
       "      <td>6</td>\n",
       "      <td>139</td>\n",
       "      <td>Tampa Bay Rays</td>\n",
       "      <td>AL</td>\n",
       "    </tr>\n",
       "    <tr>\n",
       "      <td>7</td>\n",
       "      <td>140</td>\n",
       "      <td>Texas Rangers</td>\n",
       "      <td>AL</td>\n",
       "    </tr>\n",
       "    <tr>\n",
       "      <td>8</td>\n",
       "      <td>141</td>\n",
       "      <td>Toronto Blue Jays</td>\n",
       "      <td>AL</td>\n",
       "    </tr>\n",
       "    <tr>\n",
       "      <td>9</td>\n",
       "      <td>142</td>\n",
       "      <td>Minnesota Twins</td>\n",
       "      <td>AL</td>\n",
       "    </tr>\n",
       "    <tr>\n",
       "      <td>10</td>\n",
       "      <td>143</td>\n",
       "      <td>Philadelphia Phillies</td>\n",
       "      <td>NL</td>\n",
       "    </tr>\n",
       "    <tr>\n",
       "      <td>11</td>\n",
       "      <td>144</td>\n",
       "      <td>Atlanta Braves</td>\n",
       "      <td>NL</td>\n",
       "    </tr>\n",
       "    <tr>\n",
       "      <td>12</td>\n",
       "      <td>145</td>\n",
       "      <td>Chicago White Sox</td>\n",
       "      <td>AL</td>\n",
       "    </tr>\n",
       "    <tr>\n",
       "      <td>13</td>\n",
       "      <td>146</td>\n",
       "      <td>Miami Marlins</td>\n",
       "      <td>NL</td>\n",
       "    </tr>\n",
       "    <tr>\n",
       "      <td>14</td>\n",
       "      <td>147</td>\n",
       "      <td>New York Yankees</td>\n",
       "      <td>AL</td>\n",
       "    </tr>\n",
       "    <tr>\n",
       "      <td>15</td>\n",
       "      <td>158</td>\n",
       "      <td>Milwaukee Brewers</td>\n",
       "      <td>NL</td>\n",
       "    </tr>\n",
       "    <tr>\n",
       "      <td>16</td>\n",
       "      <td>108</td>\n",
       "      <td>Los Angeles Angels</td>\n",
       "      <td>AL</td>\n",
       "    </tr>\n",
       "    <tr>\n",
       "      <td>17</td>\n",
       "      <td>109</td>\n",
       "      <td>Arizona Diamondbacks</td>\n",
       "      <td>NL</td>\n",
       "    </tr>\n",
       "    <tr>\n",
       "      <td>18</td>\n",
       "      <td>110</td>\n",
       "      <td>Baltimore Orioles</td>\n",
       "      <td>AL</td>\n",
       "    </tr>\n",
       "    <tr>\n",
       "      <td>19</td>\n",
       "      <td>111</td>\n",
       "      <td>Boston Red Sox</td>\n",
       "      <td>AL</td>\n",
       "    </tr>\n",
       "    <tr>\n",
       "      <td>20</td>\n",
       "      <td>112</td>\n",
       "      <td>Chicago Cubs</td>\n",
       "      <td>NL</td>\n",
       "    </tr>\n",
       "    <tr>\n",
       "      <td>21</td>\n",
       "      <td>113</td>\n",
       "      <td>Cincinnati Reds</td>\n",
       "      <td>NL</td>\n",
       "    </tr>\n",
       "    <tr>\n",
       "      <td>22</td>\n",
       "      <td>114</td>\n",
       "      <td>Cleveland Indians</td>\n",
       "      <td>AL</td>\n",
       "    </tr>\n",
       "    <tr>\n",
       "      <td>23</td>\n",
       "      <td>115</td>\n",
       "      <td>Colorado Rockies</td>\n",
       "      <td>NL</td>\n",
       "    </tr>\n",
       "    <tr>\n",
       "      <td>24</td>\n",
       "      <td>116</td>\n",
       "      <td>Detroit Tigers</td>\n",
       "      <td>AL</td>\n",
       "    </tr>\n",
       "    <tr>\n",
       "      <td>25</td>\n",
       "      <td>117</td>\n",
       "      <td>Houston Astros</td>\n",
       "      <td>AL</td>\n",
       "    </tr>\n",
       "    <tr>\n",
       "      <td>26</td>\n",
       "      <td>118</td>\n",
       "      <td>Kansas City Royals</td>\n",
       "      <td>AL</td>\n",
       "    </tr>\n",
       "    <tr>\n",
       "      <td>27</td>\n",
       "      <td>119</td>\n",
       "      <td>Los Angeles Dodgers</td>\n",
       "      <td>NL</td>\n",
       "    </tr>\n",
       "    <tr>\n",
       "      <td>28</td>\n",
       "      <td>120</td>\n",
       "      <td>Washington Nationals</td>\n",
       "      <td>NL</td>\n",
       "    </tr>\n",
       "    <tr>\n",
       "      <td>29</td>\n",
       "      <td>121</td>\n",
       "      <td>New York Mets</td>\n",
       "      <td>NL</td>\n",
       "    </tr>\n",
       "  </tbody>\n",
       "</table>\n",
       "</div>"
      ],
      "text/plain": [
       "     id                   name league\n",
       "0   133      Oakland Athletics     AL\n",
       "1   134     Pittsburgh Pirates     NL\n",
       "2   135       San Diego Padres     NL\n",
       "3   136       Seattle Mariners     AL\n",
       "4   137   San Francisco Giants     NL\n",
       "5   138    St. Louis Cardinals     NL\n",
       "6   139         Tampa Bay Rays     AL\n",
       "7   140          Texas Rangers     AL\n",
       "8   141      Toronto Blue Jays     AL\n",
       "9   142        Minnesota Twins     AL\n",
       "10  143  Philadelphia Phillies     NL\n",
       "11  144         Atlanta Braves     NL\n",
       "12  145      Chicago White Sox     AL\n",
       "13  146          Miami Marlins     NL\n",
       "14  147       New York Yankees     AL\n",
       "15  158      Milwaukee Brewers     NL\n",
       "16  108     Los Angeles Angels     AL\n",
       "17  109   Arizona Diamondbacks     NL\n",
       "18  110      Baltimore Orioles     AL\n",
       "19  111         Boston Red Sox     AL\n",
       "20  112           Chicago Cubs     NL\n",
       "21  113        Cincinnati Reds     NL\n",
       "22  114      Cleveland Indians     AL\n",
       "23  115       Colorado Rockies     NL\n",
       "24  116         Detroit Tigers     AL\n",
       "25  117         Houston Astros     AL\n",
       "26  118     Kansas City Royals     AL\n",
       "27  119    Los Angeles Dodgers     NL\n",
       "28  120   Washington Nationals     NL\n",
       "29  121          New York Mets     NL"
      ]
     },
     "execution_count": 29,
     "metadata": {},
     "output_type": "execute_result"
    }
   ],
   "source": [
    "charlie_functions.get_teams(query_helper.query(\"\"\"select home_id,away_id from MLB_Stats.games\"\"\"))"
   ]
  },
  {
   "cell_type": "code",
   "execution_count": 30,
   "metadata": {},
   "outputs": [],
   "source": [
    "y=2019\n",
    "a = mlb.schedule(start_date='{}-01-01'.format(y),end_date='{}-12-29'.format(y),sportId='1')"
   ]
  },
  {
   "cell_type": "code",
   "execution_count": 37,
   "metadata": {},
   "outputs": [
    {
     "data": {
      "text/plain": [
       "2472"
      ]
     },
     "execution_count": 37,
     "metadata": {},
     "output_type": "execute_result"
    }
   ],
   "source": [
    "a\n",
    "b= [x['game_type'] for x in a]\n",
    "b.count('R')"
   ]
  },
  {
   "cell_type": "code",
   "execution_count": 30,
   "metadata": {},
   "outputs": [],
   "source": [
    "def get_games(start_year,end_year):\n",
    "    years = range(start_year,end_year+1)\n",
    "    games = []\n",
    "    for y in years:\n",
    "        try:\n",
    "            games.append(mlb.schedule(start_date='{}-01-01'.format(y),end_date='{}-12-29'.format(y),sportId='1'))\n",
    "        except: \n",
    "            print(y)\n",
    "    return [item for sublist in games for item in sublist]"
   ]
  },
  {
   "cell_type": "code",
   "execution_count": null,
   "metadata": {},
   "outputs": [],
   "source": [
    "a = get_games(2009,2020)"
   ]
  },
  {
   "cell_type": "code",
   "execution_count": 21,
   "metadata": {},
   "outputs": [],
   "source": [
    "a = [item for sublist in a for item in sublist]"
   ]
  },
  {
   "cell_type": "code",
   "execution_count": 22,
   "metadata": {},
   "outputs": [
    {
     "data": {
      "text/plain": [
       "9884"
      ]
     },
     "execution_count": 22,
     "metadata": {},
     "output_type": "execute_result"
    }
   ],
   "source": [
    "b = [x['game_type']for x in a]\n",
    "b.count('R')"
   ]
  },
  {
   "cell_type": "code",
   "execution_count": 23,
   "metadata": {},
   "outputs": [
    {
     "data": {
      "text/plain": [
       "9720"
      ]
     },
     "execution_count": 23,
     "metadata": {},
     "output_type": "execute_result"
    }
   ],
   "source": [
    "162*15*4"
   ]
  },
  {
   "cell_type": "code",
   "execution_count": 19,
   "metadata": {},
   "outputs": [
    {
     "data": {
      "text/plain": [
       "({'game_id': 509505,\n",
       "  'game_datetime': '2017-02-22T20:10:00Z',\n",
       "  'game_date': '2017-02-22',\n",
       "  'game_type': 'E',\n",
       "  'status': 'Final',\n",
       "  'away_name': 'Grand Canyon Antelopes',\n",
       "  'home_name': 'Arizona Diamondbacks',\n",
       "  'away_id': 5310,\n",
       "  'home_id': 109,\n",
       "  'doubleheader': 'N',\n",
       "  'game_num': 1,\n",
       "  'home_probable_pitcher': '',\n",
       "  'away_probable_pitcher': '',\n",
       "  'home_pitcher_note': '',\n",
       "  'away_pitcher_note': '',\n",
       "  'away_score': 1,\n",
       "  'home_score': 9,\n",
       "  'current_inning': 7,\n",
       "  'inning_state': 'Middle',\n",
       "  'winning_team': 'Arizona Diamondbacks',\n",
       "  'losing_team': 'Grand Canyon Antelopes',\n",
       "  'winning_pitcher': 'Anthony Banda',\n",
       "  'losing_pitcher': 'Tyler Hansen',\n",
       "  'save_pitcher': None,\n",
       "  'summary': '2017-02-22 - Grand Canyon Antelopes (1) @ Arizona Diamondbacks (9) (Final)'},\n",
       " {'game_id': 599377,\n",
       "  'game_datetime': '2019-10-31T00:08:00Z',\n",
       "  'game_date': '2019-10-30',\n",
       "  'game_type': 'W',\n",
       "  'status': 'Final',\n",
       "  'away_name': 'Washington Nationals',\n",
       "  'home_name': 'Houston Astros',\n",
       "  'away_id': 120,\n",
       "  'home_id': 117,\n",
       "  'doubleheader': 'N',\n",
       "  'game_num': 1,\n",
       "  'home_probable_pitcher': 'Greinke, Zack',\n",
       "  'away_probable_pitcher': 'Scherzer, Max',\n",
       "  'home_pitcher_note': 'The 36-year-old doesn’t bring the heat like teammates Justin Verlander and Gerrit Cole, but succeeds with command and a five-pitch mix. The Nationals made Greinke work in Game 3 (95 pitches over 4 2/3 innings), but he allowed just one run despite 10 baserunners.',\n",
       "  'away_pitcher_note': 'Neck and upper back spasms forced Scherzer to miss his Game 5 start, but after taking a cortisone shot, he was able to throw Tuesday and will now make the biggest start of his career. Scherzer owns a 2.16 ERA in five games (four starts) this postseason, with 34 strikeouts in 25 innings.',\n",
       "  'away_score': 6,\n",
       "  'home_score': 2,\n",
       "  'current_inning': 9,\n",
       "  'inning_state': 'Bottom',\n",
       "  'winning_team': 'Washington Nationals',\n",
       "  'losing_team': 'Houston Astros',\n",
       "  'winning_pitcher': 'Patrick Corbin',\n",
       "  'losing_pitcher': 'Will Harris',\n",
       "  'save_pitcher': None,\n",
       "  'summary': '2019-10-30 - Washington Nationals (6) @ Houston Astros (2) (Final)'})"
      ]
     },
     "execution_count": 19,
     "metadata": {},
     "output_type": "execute_result"
    }
   ],
   "source": [
    "a[0],a[-1]"
   ]
  },
  {
   "cell_type": "code",
   "execution_count": 2,
   "metadata": {},
   "outputs": [
    {
     "ename": "NameError",
     "evalue": "name 'charlie_functions' is not defined",
     "output_type": "error",
     "traceback": [
      "\u001b[0;31m---------------------------------------------------------------------------\u001b[0m",
      "\u001b[0;31mNameError\u001b[0m                                 Traceback (most recent call last)",
      "\u001b[0;32m<ipython-input-2-81a84ceea0cd>\u001b[0m in \u001b[0;36m<module>\u001b[0;34m\u001b[0m\n\u001b[0;32m----> 1\u001b[0;31m \u001b[0ma\u001b[0m \u001b[0;34m=\u001b[0m \u001b[0mcharlie_functions\u001b[0m\u001b[0;34m.\u001b[0m\u001b[0mget_games\u001b[0m\u001b[0;34m(\u001b[0m\u001b[0;36m2017\u001b[0m\u001b[0;34m,\u001b[0m\u001b[0;36m2019\u001b[0m\u001b[0;34m)\u001b[0m\u001b[0;34m\u001b[0m\u001b[0;34m\u001b[0m\u001b[0m\n\u001b[0m",
      "\u001b[0;31mNameError\u001b[0m: name 'charlie_functions' is not defined"
     ]
    }
   ],
   "source": [
    "a = charlie_functions.get_games(2017,2019)"
   ]
  },
  {
   "cell_type": "code",
   "execution_count": null,
   "metadata": {},
   "outputs": [],
   "source": []
  }
 ],
 "metadata": {
  "kernelspec": {
   "display_name": "Python 3",
   "language": "python",
   "name": "python3"
  },
  "language_info": {
   "codemirror_mode": {
    "name": "ipython",
    "version": 3
   },
   "file_extension": ".py",
   "mimetype": "text/x-python",
   "name": "python",
   "nbconvert_exporter": "python",
   "pygments_lexer": "ipython3",
   "version": "3.7.3"
  }
 },
 "nbformat": 4,
 "nbformat_minor": 2
}
