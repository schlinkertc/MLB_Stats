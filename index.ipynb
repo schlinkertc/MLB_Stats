{
 "cells": [
  {
   "cell_type": "code",
   "execution_count": 28,
   "metadata": {},
   "outputs": [],
   "source": [
    "import statsapi as mlb\n",
    "import pandas as pd"
   ]
  },
  {
   "cell_type": "code",
   "execution_count": 10,
   "metadata": {},
   "outputs": [],
   "source": [
    "endpoints = mlb.ENDPOINTS\n"
   ]
  },
  {
   "cell_type": "code",
   "execution_count": 41,
   "metadata": {},
   "outputs": [],
   "source": [
    "games = mlb.schedule(start_date='2016-04-03',end_date='2019-09-29',sportId='1')"
   ]
  },
  {
   "cell_type": "code",
   "execution_count": 45,
   "metadata": {},
   "outputs": [],
   "source": [
    "games2 = mlb.schedule(start_date='2012-03-31',end_date='2015-10-01',sportId='1')"
   ]
  },
  {
   "cell_type": "code",
   "execution_count": 46,
   "metadata": {},
   "outputs": [],
   "source": [
    "games3 = mlb.schedule(start_date='2009-04-01',end_date='2011-10-01',sportId='1')"
   ]
  },
  {
   "cell_type": "code",
   "execution_count": 50,
   "metadata": {},
   "outputs": [],
   "source": [
    "games.extend(games2)"
   ]
  },
  {
   "cell_type": "code",
   "execution_count": 51,
   "metadata": {},
   "outputs": [],
   "source": [
    "games.extend(games3)"
   ]
  },
  {
   "cell_type": "code",
   "execution_count": 110,
   "metadata": {},
   "outputs": [],
   "source": [
    "df_all = pd.DataFrame(games)"
   ]
  },
  {
   "cell_type": "code",
   "execution_count": 112,
   "metadata": {},
   "outputs": [
    {
     "data": {
      "text/plain": [
       "Index(['game_id', 'game_datetime', 'game_date', 'game_type', 'status',\n",
       "       'away_name', 'home_name', 'away_id', 'home_id', 'doubleheader',\n",
       "       'game_num', 'home_probable_pitcher', 'away_probable_pitcher',\n",
       "       'home_pitcher_note', 'away_pitcher_note', 'away_score', 'home_score',\n",
       "       'current_inning', 'inning_state', 'winning_team', 'losing_team',\n",
       "       'winning_pitcher', 'losing_pitcher', 'save_pitcher', 'summary'],\n",
       "      dtype='object')"
      ]
     },
     "execution_count": 112,
     "metadata": {},
     "output_type": "execute_result"
    }
   ],
   "source": [
    "df_all.columns"
   ]
  },
  {
   "cell_type": "code",
   "execution_count": 63,
   "metadata": {},
   "outputs": [],
   "source": [
    "df = df[df['game_type']=='R']"
   ]
  },
  {
   "cell_type": "code",
   "execution_count": 66,
   "metadata": {},
   "outputs": [],
   "source": [
    "df = df[['game_id','game_datetime','game_date','status','away_id','home_id']]"
   ]
  },
  {
   "cell_type": "code",
   "execution_count": 75,
   "metadata": {},
   "outputs": [],
   "source": [
    "df['game_datetime'] = df['game_datetime'].map(lambda x: x.replace('T',' ').strip('Z'))"
   ]
  },
  {
   "cell_type": "code",
   "execution_count": null,
   "metadata": {},
   "outputs": [],
   "source": []
  },
  {
   "cell_type": "code",
   "execution_count": 82,
   "metadata": {},
   "outputs": [
    {
     "name": "stdout",
     "output_type": "stream",
     "text": [
      "<class 'pandas.core.frame.DataFrame'>\n",
      "Int64Index: 7390 entries, 0 to 8711\n",
      "Data columns (total 6 columns):\n",
      "game_id          7390 non-null int64\n",
      "game_datetime    7390 non-null object\n",
      "game_date        7390 non-null object\n",
      "status           7390 non-null object\n",
      "away_id          7390 non-null int64\n",
      "home_id          7390 non-null int64\n",
      "dtypes: int64(3), object(3)\n",
      "memory usage: 404.1+ KB\n"
     ]
    }
   ],
   "source": [
    "df.info()"
   ]
  },
  {
   "cell_type": "code",
   "execution_count": 91,
   "metadata": {},
   "outputs": [
    {
     "data": {
      "text/html": [
       "<div>\n",
       "<style scoped>\n",
       "    .dataframe tbody tr th:only-of-type {\n",
       "        vertical-align: middle;\n",
       "    }\n",
       "\n",
       "    .dataframe tbody tr th {\n",
       "        vertical-align: top;\n",
       "    }\n",
       "\n",
       "    .dataframe thead th {\n",
       "        text-align: right;\n",
       "    }\n",
       "</style>\n",
       "<table border=\"1\" class=\"dataframe\">\n",
       "  <thead>\n",
       "    <tr style=\"text-align: right;\">\n",
       "      <th></th>\n",
       "      <th>game_id</th>\n",
       "      <th>game_datetime</th>\n",
       "      <th>game_date</th>\n",
       "      <th>status</th>\n",
       "      <th>away_id</th>\n",
       "      <th>home_id</th>\n",
       "    </tr>\n",
       "  </thead>\n",
       "  <tbody>\n",
       "    <tr>\n",
       "      <td>63</td>\n",
       "      <td>446916</td>\n",
       "      <td>2016-04-09 02:15:00</td>\n",
       "      <td>2016-04-08</td>\n",
       "      <td>Final</td>\n",
       "      <td>119</td>\n",
       "      <td>137</td>\n",
       "    </tr>\n",
       "  </tbody>\n",
       "</table>\n",
       "</div>"
      ],
      "text/plain": [
       "    game_id        game_datetime   game_date status  away_id  home_id\n",
       "63   446916  2016-04-09 02:15:00  2016-04-08  Final      119      137"
      ]
     },
     "execution_count": 91,
     "metadata": {},
     "output_type": "execute_result"
    }
   ],
   "source": [
    "df[df['game_id']==446915d]"
   ]
  },
  {
   "cell_type": "code",
   "execution_count": 84,
   "metadata": {},
   "outputs": [],
   "source": [
    "import query_helper"
   ]
  },
  {
   "cell_type": "code",
   "execution_count": 87,
   "metadata": {},
   "outputs": [
    {
     "data": {
      "text/plain": [
       "False    7305\n",
       "True       85\n",
       "Name: game_id, dtype: int64"
      ]
     },
     "execution_count": 87,
     "metadata": {},
     "output_type": "execute_result"
    }
   ],
   "source": [
    "df['game_id'].duplicated().value_counts()"
   ]
  },
  {
   "cell_type": "code",
   "execution_count": 107,
   "metadata": {},
   "outputs": [],
   "source": [
    "duplicate_games = df[df['game_id'].duplicated(keep=False)==True]['game_id']\n"
   ]
  },
  {
   "cell_type": "code",
   "execution_count": 109,
   "metadata": {},
   "outputs": [
    {
     "data": {
      "text/html": [
       "<div>\n",
       "<style scoped>\n",
       "    .dataframe tbody tr th:only-of-type {\n",
       "        vertical-align: middle;\n",
       "    }\n",
       "\n",
       "    .dataframe tbody tr th {\n",
       "        vertical-align: top;\n",
       "    }\n",
       "\n",
       "    .dataframe thead th {\n",
       "        text-align: right;\n",
       "    }\n",
       "</style>\n",
       "<table border=\"1\" class=\"dataframe\">\n",
       "  <thead>\n",
       "    <tr style=\"text-align: right;\">\n",
       "      <th></th>\n",
       "      <th>game_id</th>\n",
       "      <th>game_datetime</th>\n",
       "      <th>game_date</th>\n",
       "      <th>status</th>\n",
       "      <th>away_id</th>\n",
       "      <th>home_id</th>\n",
       "    </tr>\n",
       "  </thead>\n",
       "  <tbody>\n",
       "    <tr>\n",
       "      <td>0</td>\n",
       "      <td>446877</td>\n",
       "      <td>2016-04-03 17:05:00</td>\n",
       "      <td>2016-04-03</td>\n",
       "      <td>Final</td>\n",
       "      <td>138</td>\n",
       "      <td>134</td>\n",
       "    </tr>\n",
       "    <tr>\n",
       "      <td>2</td>\n",
       "      <td>446911</td>\n",
       "      <td>2016-04-03 20:05:00</td>\n",
       "      <td>2016-04-03</td>\n",
       "      <td>Final</td>\n",
       "      <td>141</td>\n",
       "      <td>139</td>\n",
       "    </tr>\n",
       "    <tr>\n",
       "      <td>3</td>\n",
       "      <td>446873</td>\n",
       "      <td>2016-04-04 00:37:00</td>\n",
       "      <td>2016-04-03</td>\n",
       "      <td>Final</td>\n",
       "      <td>121</td>\n",
       "      <td>118</td>\n",
       "    </tr>\n",
       "    <tr>\n",
       "      <td>5</td>\n",
       "      <td>446875</td>\n",
       "      <td>2016-04-04 18:10:00</td>\n",
       "      <td>2016-04-04</td>\n",
       "      <td>Final</td>\n",
       "      <td>137</td>\n",
       "      <td>158</td>\n",
       "    </tr>\n",
       "    <tr>\n",
       "      <td>6</td>\n",
       "      <td>446872</td>\n",
       "      <td>2016-04-04 19:05:00</td>\n",
       "      <td>2016-04-04</td>\n",
       "      <td>Final</td>\n",
       "      <td>142</td>\n",
       "      <td>110</td>\n",
       "    </tr>\n",
       "    <tr>\n",
       "      <td>...</td>\n",
       "      <td>...</td>\n",
       "      <td>...</td>\n",
       "      <td>...</td>\n",
       "      <td>...</td>\n",
       "      <td>...</td>\n",
       "      <td>...</td>\n",
       "    </tr>\n",
       "    <tr>\n",
       "      <td>8707</td>\n",
       "      <td>246609</td>\n",
       "      <td>2009-10-04 20:05:00</td>\n",
       "      <td>2009-10-04</td>\n",
       "      <td>Final</td>\n",
       "      <td>108</td>\n",
       "      <td>133</td>\n",
       "    </tr>\n",
       "    <tr>\n",
       "      <td>8708</td>\n",
       "      <td>246620</td>\n",
       "      <td>2009-10-04 20:05:00</td>\n",
       "      <td>2009-10-04</td>\n",
       "      <td>Final</td>\n",
       "      <td>137</td>\n",
       "      <td>135</td>\n",
       "    </tr>\n",
       "    <tr>\n",
       "      <td>8709</td>\n",
       "      <td>246613</td>\n",
       "      <td>2009-10-04 20:10:00</td>\n",
       "      <td>2009-10-04</td>\n",
       "      <td>Final</td>\n",
       "      <td>115</td>\n",
       "      <td>119</td>\n",
       "    </tr>\n",
       "    <tr>\n",
       "      <td>8710</td>\n",
       "      <td>246621</td>\n",
       "      <td>2009-10-04 20:10:00</td>\n",
       "      <td>2009-10-04</td>\n",
       "      <td>Final</td>\n",
       "      <td>140</td>\n",
       "      <td>136</td>\n",
       "    </tr>\n",
       "    <tr>\n",
       "      <td>8711</td>\n",
       "      <td>272749</td>\n",
       "      <td>2009-10-06 21:07:00</td>\n",
       "      <td>2009-10-06</td>\n",
       "      <td>Final</td>\n",
       "      <td>116</td>\n",
       "      <td>142</td>\n",
       "    </tr>\n",
       "  </tbody>\n",
       "</table>\n",
       "<p>7220 rows × 6 columns</p>\n",
       "</div>"
      ],
      "text/plain": [
       "      game_id        game_datetime   game_date status  away_id  home_id\n",
       "0      446877  2016-04-03 17:05:00  2016-04-03  Final      138      134\n",
       "2      446911  2016-04-03 20:05:00  2016-04-03  Final      141      139\n",
       "3      446873  2016-04-04 00:37:00  2016-04-03  Final      121      118\n",
       "5      446875  2016-04-04 18:10:00  2016-04-04  Final      137      158\n",
       "6      446872  2016-04-04 19:05:00  2016-04-04  Final      142      110\n",
       "...       ...                  ...         ...    ...      ...      ...\n",
       "8707   246609  2009-10-04 20:05:00  2009-10-04  Final      108      133\n",
       "8708   246620  2009-10-04 20:05:00  2009-10-04  Final      137      135\n",
       "8709   246613  2009-10-04 20:10:00  2009-10-04  Final      115      119\n",
       "8710   246621  2009-10-04 20:10:00  2009-10-04  Final      140      136\n",
       "8711   272749  2009-10-06 21:07:00  2009-10-06  Final      116      142\n",
       "\n",
       "[7220 rows x 6 columns]"
      ]
     },
     "execution_count": 109,
     "metadata": {},
     "output_type": "execute_result"
    }
   ],
   "source": [
    "df.drop(duplicate_games.index, inplace=True)"
   ]
  },
  {
   "cell_type": "code",
   "execution_count": 97,
   "metadata": {},
   "outputs": [
    {
     "ename": "SyntaxError",
     "evalue": "keyword can't be an expression (<ipython-input-97-1dfe4018a911>, line 1)",
     "output_type": "error",
     "traceback": [
      "\u001b[0;36m  File \u001b[0;32m\"<ipython-input-97-1dfe4018a911>\"\u001b[0;36m, line \u001b[0;32m1\u001b[0m\n\u001b[0;31m    df[df.drop(df['game_id']=446870)]\u001b[0m\n\u001b[0m              ^\u001b[0m\n\u001b[0;31mSyntaxError\u001b[0m\u001b[0;31m:\u001b[0m keyword can't be an expression\n"
     ]
    }
   ],
   "source": [
    "for x in list(duplicate_games):\n",
    "    if df['game'] == x"
   ]
  },
  {
   "cell_type": "code",
   "execution_count": null,
   "metadata": {},
   "outputs": [],
   "source": []
  }
 ],
 "metadata": {
  "kernelspec": {
   "display_name": "Python 3",
   "language": "python",
   "name": "python3"
  },
  "language_info": {
   "codemirror_mode": {
    "name": "ipython",
    "version": 3
   },
   "file_extension": ".py",
   "mimetype": "text/x-python",
   "name": "python",
   "nbconvert_exporter": "python",
   "pygments_lexer": "ipython3",
   "version": "3.7.3"
  }
 },
 "nbformat": 4,
 "nbformat_minor": 2
}
