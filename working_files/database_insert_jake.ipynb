{
 "cells": [
  {
   "cell_type": "code",
<<<<<<< HEAD
   "execution_count": 5,
=======
   "execution_count": 52,
>>>>>>> c7eac0cc46b60e5e1496c636f23340e07fb27307
   "metadata": {},
   "outputs": [],
   "source": [
    "import config\n",
    "import charlie_functions\n",
    "import query_helper\n",
    "from mysql.connector import errorcode\n",
    "import mysql.connector as mysql\n"
   ]
  },
  {
   "cell_type": "code",
<<<<<<< HEAD
   "execution_count": 6,
   "metadata": {},
   "outputs": [],
   "source": [
    "from mysql.connector import errorcode"
   ]
  },
  {
   "cell_type": "code",
   "execution_count": 29,
   "metadata": {},
   "outputs": [],
   "source": [
    "import jake_playground"
   ]
  },
  {
   "cell_type": "code",
   "execution_count": 7,
   "metadata": {},
   "outputs": [],
   "source": [
    "import mysql.connector as mysql\n",
    "\n",
=======
   "execution_count": 53,
   "metadata": {},
   "outputs": [],
   "source": [
>>>>>>> c7eac0cc46b60e5e1496c636f23340e07fb27307
    "mydb = mysql.connect(\n",
    "  host=config.host,\n",
    "  user=config.admin,\n",
    "  passwd=config.password,\n",
    "  database='MLB_Stats'\n",
    ")\n",
    "\n",
    "mycursor = mydb.cursor()\n",
    "\n",
    "#mycursor.execute(\"CREATE DATABASE MLB_Stats\")"
   ]
  },
  {
   "cell_type": "code",
<<<<<<< HEAD
   "execution_count": 31,
=======
   "execution_count": null,
   "metadata": {},
   "outputs": [],
   "source": [
    "mysql.connect()"
   ]
  },
  {
   "cell_type": "code",
   "execution_count": 36,
>>>>>>> c7eac0cc46b60e5e1496c636f23340e07fb27307
   "metadata": {},
   "outputs": [],
   "source": [
    "tables = {}\n",
    "tables['games'] = (\n",
    "    \"CREATE TABLE games (\"\n",
    "    \"  gameid int(11) NOT NULL,\"\n",
    "    \"  game_end_datetime datetime(6) NOT NULL,\"\n",
    "    \"  game_date datetime(3) NOT NULL,\"\n",
    "    \"  home_id int(3) NOT NULL,\"\n",
    "    \"  away_id int(3) NOT NULL,\"\n",
    "    \"  status varchar(20) NOT NULL,\"\n",
    "    \"  PRIMARY KEY (gameid)\"\n",
    "    \") ENGINE=InnoDB\")"
   ]
  },
  {
   "cell_type": "code",
   "execution_count": 32,
   "metadata": {},
   "outputs": [],
   "source": [
    "tables['game_info'] = (\n",
    "    \"CREATE TABLE game_info (\"\n",
    "    \"  gameid int(11) NOT NULL,\"\n",
    "    \"  info_id int NOT NULL AUTO_INCREMENT,\"\n",
    "    \"  home_team_runs int(3) NOT NULL,\"\n",
    "    \"  away_team_runs int(3) NOT NULL,\"\n",
    "    \"  venue_id varchar(10) NOT NULL,\"\n",
    "    \"  weather_category varchar(30) NOT NULL,\"\n",
    "    \"  temp int(3) NOT NULL,\"\n",
    "    \"  wind_mph int(3) NOT NULL,\"\n",
    "    \"  wind_direction varchar(40) NOT NULL,\"\n",
    "    \"  PRIMARY KEY (info_id),\"\n",
    "    \"  FOREIGN KEY (gameid) REFERENCES games(gameid)\"\n",
    "    \") ENGINE=InnoDB\")"
   ]
  },
  {
   "cell_type": "code",
   "execution_count": 33,
   "metadata": {},
   "outputs": [],
   "source": [
    "tables['teams'] = (\n",
    "    \" CREATE TABLE teams(\"\n",
    "    \" team_id int(11) NOT NULL,\"\n",
    "    \" team_name VARCHAR(30) NOT NULL,\"\n",
    "    \" league VARCHAR(2) NOT NULL,\"\n",
    "    \" PRIMARY KEY (team_id)\"\n",
    "    \") ENGINE=InnoDB\")"
   ]
  },
  {
   "cell_type": "code",
   "execution_count": 34,
   "metadata": {},
   "outputs": [],
   "source": [
    "tables['venues'] = (\n",
    "    \" CREATE TABLE venue(\"\n",
    "    \" venue_id int(11) NOT NULL AUTO_INCREMENT,\"\n",
    "    \" team_id int(11) NOT NULL,\"\n",
    "    \" name VARCHAR(30) NOT NULL,\"\n",
    "    \" PRIMARY KEY (venue_id),\"\n",
    "    \" FOREIGN KEY (team_id) REFERENCES teams(team_id)\"\n",
    "    \") ENGINE=InnoDB\")"
   ]
  },
  {
   "cell_type": "code",
   "execution_count": 35,
   "metadata": {},
   "outputs": [
    {
     "name": "stdout",
     "output_type": "stream",
     "text": [
      "Creating table games: OK\n",
      "Creating table game_info: OK\n",
      "Creating table teams: already exists.\n",
      "Creating table venues: OK\n"
     ]
    }
   ],
   "source": [
    "for table_name in tables:\n",
    "    table_description = tables[table_name]\n",
    "    try:\n",
    "        print(\"Creating table {}: \".format(table_name), end='')\n",
    "        mycursor.execute(table_description)\n",
    "    except mysql.Error as err:\n",
    "        if err.errno == errorcode.ER_TABLE_EXISTS_ERROR:\n",
    "            print(\"already exists.\")\n",
    "        else:\n",
    "            print(err.msg)\n",
    "    else:\n",
    "        print(\"OK\")"
   ]
  },
  {
   "cell_type": "code",
   "execution_count": 36,
   "metadata": {},
   "outputs": [],
   "source": [
    "df = jake_playground.df"
   ]
  },
  {
   "cell_type": "code",
   "execution_count": 37,
   "metadata": {},
   "outputs": [
    {
     "data": {
      "text/html": [
       "<div>\n",
       "<style scoped>\n",
       "    .dataframe tbody tr th:only-of-type {\n",
       "        vertical-align: middle;\n",
       "    }\n",
       "\n",
       "    .dataframe tbody tr th {\n",
       "        vertical-align: top;\n",
       "    }\n",
       "\n",
       "    .dataframe thead th {\n",
       "        text-align: right;\n",
       "    }\n",
       "</style>\n",
       "<table border=\"1\" class=\"dataframe\">\n",
       "  <thead>\n",
       "    <tr style=\"text-align: right;\">\n",
       "      <th></th>\n",
       "      <th>gameid</th>\n",
       "      <th>game_end_datetime</th>\n",
       "      <th>game_date</th>\n",
       "      <th>status</th>\n",
       "      <th>home_id</th>\n",
       "      <th>away_id</th>\n",
       "    </tr>\n",
       "  </thead>\n",
       "  <tbody>\n",
       "    <tr>\n",
       "      <th>0</th>\n",
       "      <td>244193</td>\n",
       "      <td>2009-04-06 00:00:00</td>\n",
       "      <td>2009-04-05</td>\n",
       "      <td>Final</td>\n",
       "      <td>143</td>\n",
       "      <td>144</td>\n",
       "    </tr>\n",
       "    <tr>\n",
       "      <th>1</th>\n",
       "      <td>244201</td>\n",
       "      <td>2009-04-06 17:10:00</td>\n",
       "      <td>2009-04-06</td>\n",
       "      <td>Final</td>\n",
       "      <td>113</td>\n",
       "      <td>121</td>\n",
       "    </tr>\n",
       "    <tr>\n",
       "      <th>2</th>\n",
       "      <td>244195</td>\n",
       "      <td>2009-04-06 18:05:00</td>\n",
       "      <td>2009-04-06</td>\n",
       "      <td>Final</td>\n",
       "      <td>140</td>\n",
       "      <td>114</td>\n",
       "    </tr>\n",
       "    <tr>\n",
       "      <th>5</th>\n",
       "      <td>244196</td>\n",
       "      <td>2009-04-06 19:40:00</td>\n",
       "      <td>2009-04-06</td>\n",
       "      <td>Final</td>\n",
       "      <td>109</td>\n",
       "      <td>115</td>\n",
       "    </tr>\n",
       "    <tr>\n",
       "      <th>6</th>\n",
       "      <td>244200</td>\n",
       "      <td>2009-04-06 20:05:00</td>\n",
       "      <td>2009-04-06</td>\n",
       "      <td>Final</td>\n",
       "      <td>110</td>\n",
       "      <td>147</td>\n",
       "    </tr>\n",
       "  </tbody>\n",
       "</table>\n",
       "</div>"
      ],
      "text/plain": [
       "   gameid    game_end_datetime   game_date status  home_id  away_id\n",
       "0  244193  2009-04-06 00:00:00  2009-04-05  Final      143      144\n",
       "1  244201  2009-04-06 17:10:00  2009-04-06  Final      113      121\n",
       "2  244195  2009-04-06 18:05:00  2009-04-06  Final      140      114\n",
       "5  244196  2009-04-06 19:40:00  2009-04-06  Final      109      115\n",
       "6  244200  2009-04-06 20:05:00  2009-04-06  Final      110      147"
      ]
     },
     "execution_count": 37,
     "metadata": {},
     "output_type": "execute_result"
    }
   ],
   "source": [
    "df = df[['gameid','game_end_datetime','game_date','status','home_id','away_id']]\n",
    "df.head()"
   ]
  },
  {
   "cell_type": "code",
   "execution_count": 38,
   "metadata": {},
   "outputs": [],
   "source": [
    "tuples = [tuple(x) for x in df.values]"
   ]
  },
  {
   "cell_type": "code",
   "execution_count": 39,
   "metadata": {},
   "outputs": [
    {
     "data": {
      "text/plain": [
       "(26325, (244193, '2009-04-06 00:00:00', '2009-04-05', 'Final', 143, 144))"
      ]
     },
     "execution_count": 39,
     "metadata": {},
     "output_type": "execute_result"
    }
   ],
   "source": [
    "len(tuples), tuples[0]"
   ]
  },
  {
   "cell_type": "code",
   "execution_count": 40,
   "metadata": {},
   "outputs": [],
   "source": [
    "statement = \"\"\"INSERT IGNORE INTO games \n",
    "               (gameid, game_end_datetime, game_date, status, home_id, away_id)\n",
    "               VALUES (%s, %s, %s, %s, %s, %s)\"\"\""
   ]
  },
  {
   "cell_type": "code",
<<<<<<< HEAD
   "execution_count": 41,
   "metadata": {},
   "outputs": [],
   "source": [
    "for i in range(len(tuples)):\n",
    "    try:\n",
    "        mycursor.execute(statement, tuples[i])\n",
    "        mydb.commit()\n",
    "    except:\n",
    "        print(i)"
   ]
  },
  {
   "cell_type": "code",
   "execution_count": 8,
   "metadata": {},
   "outputs": [],
   "source": [
    "stmt = \"\"\"SELECT gameid from games\"\"\"\n",
    "mycursor.execute(stmt)"
   ]
  },
  {
   "cell_type": "code",
   "execution_count": 9,
   "metadata": {},
   "outputs": [],
   "source": [
    "ids = []\n",
    "for obj in mycursor:\n",
    "    ids.append(obj[0])"
   ]
  },
  {
   "cell_type": "code",
   "execution_count": 10,
   "metadata": {},
=======
   "execution_count": 48,
   "metadata": {
    "collapsed": true
   },
>>>>>>> c7eac0cc46b60e5e1496c636f23340e07fb27307
   "outputs": [
    {
     "data": {
      "text/plain": [
       "26325"
      ]
     },
     "execution_count": 10,
     "metadata": {},
     "output_type": "execute_result"
    }
   ],
   "source": [
    "len(ids)"
   ]
  },
  {
   "cell_type": "code",
   "execution_count": 30,
   "metadata": {},
   "outputs": [],
   "source": [
    "import game_log_parse"
   ]
  },
  {
   "cell_type": "code",
   "execution_count": null,
   "metadata": {},
   "outputs": [],
   "source": [
    "statement = \"\"\"INSERT IGNORE INTO game_info \n",
    "               (gameid, home_team_runs, away_team_runs, venue_id, weather_category, temp, wind_mph, wind_direction)\n",
    "               VALUES (%s, %s, %s, %s, %s, %s, %s, %s,)\"\"\""
   ]
  },
  {
   "cell_type": "code",
   "execution_count": 12,
   "metadata": {},
   "outputs": [],
   "source": [
    "a= game_log_parse.box_upload_get(ids[0])"
   ]
  },
  {
   "cell_type": "code",
   "execution_count": 13,
   "metadata": {},
   "outputs": [
    {
     "data": {
      "text/plain": [
       "{'away_team_runs': 4,\n",
       " 'gameid': 244193,\n",
       " 'home_team_runs': 1,\n",
       " 'temp': 60,\n",
       " 'venue_id': 2681,\n",
       " 'weather_category': 'clear',\n",
       " 'wind_direction': 'out to cf',\n",
       " 'wind_mph': 10}"
      ]
     },
     "execution_count": 13,
     "metadata": {},
     "output_type": "execute_result"
    }
   ],
   "source": [
    "a"
   ]
  },
  {
   "cell_type": "code",
   "execution_count": 16,
   "metadata": {},
   "outputs": [],
   "source": [
    "def upload_game(game_dict):\n",
    "    stmt = statement = \"\"\"INSERT IGNORE INTO game_info \n",
    "               (gameid, home_team_runs, away_team_runs, venue_id, weather_category, temp, wind_mph, wind_direction)\n",
    "               VALUES (%(gameid)s, %(home_team_runs)s, %(away_team_runs)s, %(venue_id)s, %(weather_category)s, %(temp)s, %(wind_mph)s, %(wind_direction)s)\"\"\"\n",
    "    mycursor.execute(stmt, game_dict)"
   ]
  },
  {
   "cell_type": "code",
   "execution_count": 17,
   "metadata": {},
   "outputs": [],
   "source": [
    "upload_game(a)\n",
    "mydb.commit()"
   ]
  },
  {
   "cell_type": "code",
   "execution_count": 18,
   "metadata": {},
   "outputs": [],
   "source": [
    "games_uploaded = []\n",
    "not_uploaded = []\n",
    "for game in ids[1:]:\n",
    "    try:\n",
    "        upload = game_log_parse.box_upload_get(game)\n",
    "        upload_game(upload)\n",
    "        mydb.commit()\n",
    "        games_uploaded.append(game)\n",
    "    except:\n",
    "        not_uploaded.append(game)\n"
   ]
  },
  {
   "cell_type": "code",
   "execution_count": 19,
   "metadata": {},
   "outputs": [
    {
     "data": {
      "text/plain": [
       "4"
      ]
     },
     "execution_count": 19,
     "metadata": {},
     "output_type": "execute_result"
    }
   ],
   "source": [
    "len(not_uploaded)"
   ]
  },
  {
   "cell_type": "code",
   "execution_count": 32,
   "metadata": {},
   "outputs": [
    {
     "data": {
      "text/plain": [
       "244194"
      ]
     },
     "execution_count": 32,
     "metadata": {},
     "output_type": "execute_result"
    }
   ],
   "source": [
    "games_uploaded[0]"
   ]
  },
  {
   "cell_type": "code",
   "execution_count": 55,
   "metadata": {},
   "outputs": [],
   "source": [
    "teams = charlie_functions.get_teams(query_helper.query(\"\"\"select home_id,away_id from MLB_Stats.games\"\"\"))"
   ]
  },
  {
   "cell_type": "code",
   "execution_count": 57,
   "metadata": {},
   "outputs": [],
   "source": [
    "teams_data = [tuple(x) for x in teams.values]"
   ]
  },
  {
   "cell_type": "code",
   "execution_count": 59,
   "metadata": {},
   "outputs": [],
   "source": [
    "teams_statement = \"\"\"INSERT IGNORE INTO teams \n",
    "               (team_id, team_name, league)\n",
    "               VALUES (%s, %s, %s)\"\"\""
   ]
  },
  {
   "cell_type": "code",
   "execution_count": 60,
   "metadata": {},
   "outputs": [],
   "source": [
    "mycursor.executemany(teams_statement,teams_data)\n",
    "mydb.commit()"
   ]
  },
  {
   "cell_type": "code",
   "execution_count": 67,
   "metadata": {},
   "outputs": [],
   "source": [
    "a = query_helper.query_to_df(\"\"\"select G.gameid, G.home_team, t.team_name as away_team from (select g.gameid, t.team_name as home_team, g.away_id\n",
    "from MLB_Stats.games g \n",
    "inner join MLB_Stats.teams t on t.team_id=g.home_id) G\n",
    "inner join MLB_Stats.teams t on t.team_id=G.away_id;\"\"\")"
   ]
  },
  {
   "cell_type": "code",
   "execution_count": 68,
   "metadata": {},
   "outputs": [
    {
     "data": {
      "text/html": [
       "<div>\n",
       "<style scoped>\n",
       "    .dataframe tbody tr th:only-of-type {\n",
       "        vertical-align: middle;\n",
       "    }\n",
       "\n",
       "    .dataframe tbody tr th {\n",
       "        vertical-align: top;\n",
       "    }\n",
       "\n",
       "    .dataframe thead th {\n",
       "        text-align: right;\n",
       "    }\n",
       "</style>\n",
       "<table border=\"1\" class=\"dataframe\">\n",
       "  <thead>\n",
       "    <tr style=\"text-align: right;\">\n",
       "      <th></th>\n",
       "      <th>gameid</th>\n",
       "      <th>home_team</th>\n",
       "      <th>away_team</th>\n",
       "    </tr>\n",
       "  </thead>\n",
       "  <tbody>\n",
       "    <tr>\n",
       "      <td>0</td>\n",
       "      <td>244193</td>\n",
       "      <td>Philadelphia Phillies</td>\n",
       "      <td>Atlanta Braves</td>\n",
       "    </tr>\n",
       "    <tr>\n",
       "      <td>1</td>\n",
       "      <td>244194</td>\n",
       "      <td>Houston Astros</td>\n",
       "      <td>Chicago Cubs</td>\n",
       "    </tr>\n",
       "    <tr>\n",
       "      <td>2</td>\n",
       "      <td>244195</td>\n",
       "      <td>Texas Rangers</td>\n",
       "      <td>Cleveland Indians</td>\n",
       "    </tr>\n",
       "    <tr>\n",
       "      <td>3</td>\n",
       "      <td>244196</td>\n",
       "      <td>Arizona Diamondbacks</td>\n",
       "      <td>Colorado Rockies</td>\n",
       "    </tr>\n",
       "    <tr>\n",
       "      <td>4</td>\n",
       "      <td>244197</td>\n",
       "      <td>Toronto Blue Jays</td>\n",
       "      <td>Detroit Tigers</td>\n",
       "    </tr>\n",
       "    <tr>\n",
       "      <td>...</td>\n",
       "      <td>...</td>\n",
       "      <td>...</td>\n",
       "      <td>...</td>\n",
       "    </tr>\n",
       "    <tr>\n",
       "      <td>26320</td>\n",
       "      <td>567630</td>\n",
       "      <td>Milwaukee Brewers</td>\n",
       "      <td>Pittsburgh Pirates</td>\n",
       "    </tr>\n",
       "    <tr>\n",
       "      <td>26321</td>\n",
       "      <td>567631</td>\n",
       "      <td>Milwaukee Brewers</td>\n",
       "      <td>Pittsburgh Pirates</td>\n",
       "    </tr>\n",
       "    <tr>\n",
       "      <td>26322</td>\n",
       "      <td>567632</td>\n",
       "      <td>Milwaukee Brewers</td>\n",
       "      <td>Pittsburgh Pirates</td>\n",
       "    </tr>\n",
       "    <tr>\n",
       "      <td>26323</td>\n",
       "      <td>570334</td>\n",
       "      <td>Chicago Cubs</td>\n",
       "      <td>Milwaukee Brewers</td>\n",
       "    </tr>\n",
       "    <tr>\n",
       "      <td>26324</td>\n",
       "      <td>570335</td>\n",
       "      <td>Los Angeles Dodgers</td>\n",
       "      <td>Colorado Rockies</td>\n",
       "    </tr>\n",
       "  </tbody>\n",
       "</table>\n",
       "<p>26325 rows × 3 columns</p>\n",
       "</div>"
      ],
      "text/plain": [
       "       gameid              home_team           away_team\n",
       "0      244193  Philadelphia Phillies      Atlanta Braves\n",
       "1      244194         Houston Astros        Chicago Cubs\n",
       "2      244195          Texas Rangers   Cleveland Indians\n",
       "3      244196   Arizona Diamondbacks    Colorado Rockies\n",
       "4      244197      Toronto Blue Jays      Detroit Tigers\n",
       "...       ...                    ...                 ...\n",
       "26320  567630      Milwaukee Brewers  Pittsburgh Pirates\n",
       "26321  567631      Milwaukee Brewers  Pittsburgh Pirates\n",
       "26322  567632      Milwaukee Brewers  Pittsburgh Pirates\n",
       "26323  570334           Chicago Cubs   Milwaukee Brewers\n",
       "26324  570335    Los Angeles Dodgers    Colorado Rockies\n",
       "\n",
       "[26325 rows x 3 columns]"
      ]
     },
     "execution_count": 68,
     "metadata": {},
     "output_type": "execute_result"
    }
   ],
   "source": [
    "a"
   ]
  },
  {
   "cell_type": "code",
   "execution_count": null,
   "metadata": {},
   "outputs": [],
   "source": []
  }
 ],
 "metadata": {
  "kernelspec": {
   "display_name": "Python 3",
   "language": "python",
   "name": "python3"
  },
  "language_info": {
   "codemirror_mode": {
    "name": "ipython",
    "version": 3
   },
   "file_extension": ".py",
   "mimetype": "text/x-python",
   "name": "python",
   "nbconvert_exporter": "python",
   "pygments_lexer": "ipython3",
   "version": "3.6.4"
  }
 },
 "nbformat": 4,
 "nbformat_minor": 2
}
