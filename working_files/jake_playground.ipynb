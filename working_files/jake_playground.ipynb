{
 "cells": [
  {
   "cell_type": "code",
   "execution_count": 11,
   "metadata": {},
   "outputs": [],
   "source": [
    "import charlie_functions\n",
    "import config\n",
    "import mysql.connector\n",
    "import pandas as pd\n",
    "import seaborn as sns\n",
    "import matplotlib.pyplot as plt\n",
    "import numpy as np\n",
    "import scipy.stats as stats\n",
    "\n",
    "%matplotlib inline"
   ]
  },
  {
   "cell_type": "code",
   "execution_count": 32,
   "metadata": {},
   "outputs": [
    {
     "data": {
      "text/plain": [
       "[{'away_id': 227,\n",
       "  'away_name': 'Boston College Eagles',\n",
       "  'away_pitcher_note': '',\n",
       "  'away_probable_pitcher': '',\n",
       "  'away_score': 1,\n",
       "  'current_inning': 7,\n",
       "  'doubleheader': 'N',\n",
       "  'game_date': '2009-02-25',\n",
       "  'game_datetime': '2009-02-25T18:05:00Z',\n",
       "  'game_id': 257211,\n",
       "  'game_num': 1,\n",
       "  'game_type': 'E',\n",
       "  'home_id': 111,\n",
       "  'home_name': 'Boston Red Sox',\n",
       "  'home_pitcher_note': '',\n",
       "  'home_probable_pitcher': '',\n",
       "  'home_score': 7,\n",
       "  'inning_state': 'Middle',\n",
       "  'losing_pitcher': 'Kyle Prohovich',\n",
       "  'losing_team': 'Boston College Eagles',\n",
       "  'save_pitcher': None,\n",
       "  'status': 'Final',\n",
       "  'summary': '2009-02-25 - Boston College Eagles (1) @ Boston Red Sox (7) (Final)',\n",
       "  'winning_pitcher': 'Junichi Tazawa',\n",
       "  'winning_team': 'Boston Red Sox'},\n",
       " {'away_id': 144,\n",
       "  'away_name': 'Atlanta Braves',\n",
       "  'away_pitcher_note': '',\n",
       "  'away_probable_pitcher': '',\n",
       "  'away_score': 4,\n",
       "  'current_inning': 9,\n",
       "  'doubleheader': 'N',\n",
       "  'game_date': '2009-02-25',\n",
       "  'game_datetime': '2009-02-25T18:05:00Z',\n",
       "  'game_id': 257210,\n",
       "  'game_num': 1,\n",
       "  'game_type': 'S',\n",
       "  'home_id': 116,\n",
       "  'home_name': 'Detroit Tigers',\n",
       "  'home_pitcher_note': '',\n",
       "  'home_probable_pitcher': '',\n",
       "  'home_score': 5,\n",
       "  'inning_state': 'Top',\n",
       "  'losing_pitcher': 'Juan Pablo Perez',\n",
       "  'losing_team': 'Atlanta Braves',\n",
       "  'save_pitcher': 'Kyle Bloom',\n",
       "  'status': 'Final',\n",
       "  'summary': '2009-02-25 - Atlanta Braves (4) @ Detroit Tigers (5) (Final)',\n",
       "  'winning_pitcher': 'Fu-Te Ni',\n",
       "  'winning_team': 'Detroit Tigers'},\n",
       " {'away_id': 113,\n",
       "  'away_name': 'Cincinnati Reds',\n",
       "  'away_pitcher_note': '',\n",
       "  'away_probable_pitcher': '',\n",
       "  'away_score': 7,\n",
       "  'current_inning': 9,\n",
       "  'doubleheader': 'N',\n",
       "  'game_date': '2009-02-25',\n",
       "  'game_datetime': '2009-02-25T18:05:00Z',\n",
       "  'game_id': 257214,\n",
       "  'game_num': 1,\n",
       "  'game_type': 'S',\n",
       "  'home_id': 139,\n",
       "  'home_name': 'Tampa Bay Rays',\n",
       "  'home_pitcher_note': '',\n",
       "  'home_probable_pitcher': '',\n",
       "  'home_score': 0,\n",
       "  'inning_state': 'Bottom',\n",
       "  'losing_pitcher': 'Randy Choate',\n",
       "  'losing_team': 'Tampa Bay Rays',\n",
       "  'save_pitcher': None,\n",
       "  'status': 'Final',\n",
       "  'summary': '2009-02-25 - Cincinnati Reds (7) @ Tampa Bay Rays (0) (Final)',\n",
       "  'winning_pitcher': 'Johnny Cueto',\n",
       "  'winning_team': 'Cincinnati Reds'},\n",
       " {'away_id': 146,\n",
       "  'away_name': 'Florida Marlins',\n",
       "  'away_pitcher_note': '',\n",
       "  'away_probable_pitcher': '',\n",
       "  'away_score': 5,\n",
       "  'current_inning': 10,\n",
       "  'doubleheader': 'N',\n",
       "  'game_date': '2009-02-25',\n",
       "  'game_datetime': '2009-02-25T18:05:00Z',\n",
       "  'game_id': 257215,\n",
       "  'game_num': 1,\n",
       "  'game_type': 'S',\n",
       "  'home_id': 138,\n",
       "  'home_name': 'St. Louis Cardinals',\n",
       "  'home_pitcher_note': '',\n",
       "  'home_probable_pitcher': '',\n",
       "  'home_score': 5,\n",
       "  'inning_state': 'End',\n",
       "  'status': 'Final: Tied',\n",
       "  'summary': '2009-02-25 - Florida Marlins @ St. Louis Cardinals (Final: Tied)'}]"
      ]
     },
     "execution_count": 32,
     "metadata": {},
     "output_type": "execute_result"
    }
   ],
   "source": [
    "game_list = charlie_functions.get_games(2009,2019)"
   ]
  },
  {
   "cell_type": "code",
   "execution_count": 33,
   "metadata": {},
   "outputs": [
    {
     "data": {
      "text/plain": [
       "[{'away_id': 227,\n",
       "  'away_name': 'Boston College Eagles',\n",
       "  'away_pitcher_note': '',\n",
       "  'away_probable_pitcher': '',\n",
       "  'away_score': 1,\n",
       "  'current_inning': 7,\n",
       "  'doubleheader': 'N',\n",
       "  'game_date': '2009-02-25',\n",
       "  'game_datetime': '2009-02-25T18:05:00Z',\n",
       "  'game_id': 257211,\n",
       "  'game_num': 1,\n",
       "  'game_type': 'E',\n",
       "  'home_id': 111,\n",
       "  'home_name': 'Boston Red Sox',\n",
       "  'home_pitcher_note': '',\n",
       "  'home_probable_pitcher': '',\n",
       "  'home_score': 7,\n",
       "  'inning_state': 'Middle',\n",
       "  'losing_pitcher': 'Kyle Prohovich',\n",
       "  'losing_team': 'Boston College Eagles',\n",
       "  'save_pitcher': None,\n",
       "  'status': 'Final',\n",
       "  'summary': '2009-02-25 - Boston College Eagles (1) @ Boston Red Sox (7) (Final)',\n",
       "  'winning_pitcher': 'Junichi Tazawa',\n",
       "  'winning_team': 'Boston Red Sox'},\n",
       " {'away_id': 144,\n",
       "  'away_name': 'Atlanta Braves',\n",
       "  'away_pitcher_note': '',\n",
       "  'away_probable_pitcher': '',\n",
       "  'away_score': 4,\n",
       "  'current_inning': 9,\n",
       "  'doubleheader': 'N',\n",
       "  'game_date': '2009-02-25',\n",
       "  'game_datetime': '2009-02-25T18:05:00Z',\n",
       "  'game_id': 257210,\n",
       "  'game_num': 1,\n",
       "  'game_type': 'S',\n",
       "  'home_id': 116,\n",
       "  'home_name': 'Detroit Tigers',\n",
       "  'home_pitcher_note': '',\n",
       "  'home_probable_pitcher': '',\n",
       "  'home_score': 5,\n",
       "  'inning_state': 'Top',\n",
       "  'losing_pitcher': 'Juan Pablo Perez',\n",
       "  'losing_team': 'Atlanta Braves',\n",
       "  'save_pitcher': 'Kyle Bloom',\n",
       "  'status': 'Final',\n",
       "  'summary': '2009-02-25 - Atlanta Braves (4) @ Detroit Tigers (5) (Final)',\n",
       "  'winning_pitcher': 'Fu-Te Ni',\n",
       "  'winning_team': 'Detroit Tigers'},\n",
       " {'away_id': 113,\n",
       "  'away_name': 'Cincinnati Reds',\n",
       "  'away_pitcher_note': '',\n",
       "  'away_probable_pitcher': '',\n",
       "  'away_score': 7,\n",
       "  'current_inning': 9,\n",
       "  'doubleheader': 'N',\n",
       "  'game_date': '2009-02-25',\n",
       "  'game_datetime': '2009-02-25T18:05:00Z',\n",
       "  'game_id': 257214,\n",
       "  'game_num': 1,\n",
       "  'game_type': 'S',\n",
       "  'home_id': 139,\n",
       "  'home_name': 'Tampa Bay Rays',\n",
       "  'home_pitcher_note': '',\n",
       "  'home_probable_pitcher': '',\n",
       "  'home_score': 0,\n",
       "  'inning_state': 'Bottom',\n",
       "  'losing_pitcher': 'Randy Choate',\n",
       "  'losing_team': 'Tampa Bay Rays',\n",
       "  'save_pitcher': None,\n",
       "  'status': 'Final',\n",
       "  'summary': '2009-02-25 - Cincinnati Reds (7) @ Tampa Bay Rays (0) (Final)',\n",
       "  'winning_pitcher': 'Johnny Cueto',\n",
       "  'winning_team': 'Cincinnati Reds'}]"
      ]
     },
     "execution_count": 33,
     "metadata": {},
     "output_type": "execute_result"
    }
   ],
   "source": [
    "game_list[:3]"
   ]
  },
  {
   "cell_type": "code",
   "execution_count": 34,
   "metadata": {},
   "outputs": [],
   "source": [
    "def parse_game(game):\n",
    "    game_parsed = {'gameid' : game['game_id'],\n",
    "                   'game_end_datetime' : game['game_datetime'],\n",
    "                   'game_date' : game['game_date'],\n",
    "                   'home_id' : game['home_id'],\n",
    "                   'away_id' : game['away_id'],\n",
    "                   'status' : game['status']\n",
    "    }\n",
    "    \n",
    "    return game_parsed"
   ]
  },
  {
   "cell_type": "code",
   "execution_count": 12,
   "metadata": {},
   "outputs": [],
   "source": [
    "regular_season_games = []\n",
    "for item in game_list:\n",
    "    if item['game_type'] != 'R':\n",
    "        pass\n",
    "    else:\n",
    "        regular_season_games.append(parse_game(item))"
   ]
  },
  {
   "cell_type": "code",
   "execution_count": 13,
   "metadata": {},
   "outputs": [
    {
     "data": {
      "text/plain": [
       "27148"
      ]
     },
     "execution_count": 13,
     "metadata": {},
     "output_type": "execute_result"
    }
   ],
   "source": [
    "len(regular_season_games)"
   ]
  },
  {
   "cell_type": "code",
   "execution_count": 36,
   "metadata": {},
   "outputs": [
    {
     "data": {
      "text/plain": [
       "(27148, 6104)"
      ]
     },
     "execution_count": 36,
     "metadata": {},
     "output_type": "execute_result"
    }
   ],
   "source": [
    "count_r =0\n",
    "count_else = 0\n",
    "for item in game_list:\n",
    "    if item['game_type'] == 'R':\n",
    "        count_r += 1\n",
    "    else:\n",
    "        count_else += 1\n",
    "count_r,count_else\n"
   ]
  },
  {
   "cell_type": "code",
   "execution_count": 24,
   "metadata": {},
   "outputs": [
    {
     "data": {
      "text/plain": [
       "24300"
      ]
     },
     "execution_count": 24,
     "metadata": {},
     "output_type": "execute_result"
    }
   ],
   "source": [
    "162*15*10"
   ]
  },
  {
   "cell_type": "code",
   "execution_count": 16,
   "metadata": {},
   "outputs": [],
   "source": [
    "df = pd.DataFrame(regular_season_games)"
   ]
  },
  {
   "cell_type": "code",
   "execution_count": 17,
   "metadata": {},
   "outputs": [
    {
     "data": {
      "text/html": [
       "<div>\n",
       "<style scoped>\n",
       "    .dataframe tbody tr th:only-of-type {\n",
       "        vertical-align: middle;\n",
       "    }\n",
       "\n",
       "    .dataframe tbody tr th {\n",
       "        vertical-align: top;\n",
       "    }\n",
       "\n",
       "    .dataframe thead th {\n",
       "        text-align: right;\n",
       "    }\n",
       "</style>\n",
       "<table border=\"1\" class=\"dataframe\">\n",
       "  <thead>\n",
       "    <tr style=\"text-align: right;\">\n",
       "      <th></th>\n",
       "      <th>away_id</th>\n",
       "      <th>game_date</th>\n",
       "      <th>game_end_datetime</th>\n",
       "      <th>gameid</th>\n",
       "      <th>home_id</th>\n",
       "      <th>status</th>\n",
       "    </tr>\n",
       "  </thead>\n",
       "  <tbody>\n",
       "    <tr>\n",
       "      <th>0</th>\n",
       "      <td>144</td>\n",
       "      <td>2009-04-05</td>\n",
       "      <td>2009-04-06T00:00:00Z</td>\n",
       "      <td>244193</td>\n",
       "      <td>143</td>\n",
       "      <td>Final</td>\n",
       "    </tr>\n",
       "    <tr>\n",
       "      <th>1</th>\n",
       "      <td>121</td>\n",
       "      <td>2009-04-06</td>\n",
       "      <td>2009-04-06T17:10:00Z</td>\n",
       "      <td>244201</td>\n",
       "      <td>113</td>\n",
       "      <td>Final</td>\n",
       "    </tr>\n",
       "    <tr>\n",
       "      <th>2</th>\n",
       "      <td>114</td>\n",
       "      <td>2009-04-06</td>\n",
       "      <td>2009-04-06T18:05:00Z</td>\n",
       "      <td>244195</td>\n",
       "      <td>140</td>\n",
       "      <td>Final</td>\n",
       "    </tr>\n",
       "    <tr>\n",
       "      <th>3</th>\n",
       "      <td>118</td>\n",
       "      <td>2009-04-06</td>\n",
       "      <td>2009-04-06T18:05:00Z</td>\n",
       "      <td>244198</td>\n",
       "      <td>145</td>\n",
       "      <td>Postponed</td>\n",
       "    </tr>\n",
       "    <tr>\n",
       "      <th>4</th>\n",
       "      <td>139</td>\n",
       "      <td>2009-04-06</td>\n",
       "      <td>2009-04-06T18:05:00Z</td>\n",
       "      <td>244205</td>\n",
       "      <td>111</td>\n",
       "      <td>Postponed</td>\n",
       "    </tr>\n",
       "  </tbody>\n",
       "</table>\n",
       "</div>"
      ],
      "text/plain": [
       "   away_id   game_date     game_end_datetime  gameid  home_id     status\n",
       "0      144  2009-04-05  2009-04-06T00:00:00Z  244193      143      Final\n",
       "1      121  2009-04-06  2009-04-06T17:10:00Z  244201      113      Final\n",
       "2      114  2009-04-06  2009-04-06T18:05:00Z  244195      140      Final\n",
       "3      118  2009-04-06  2009-04-06T18:05:00Z  244198      145  Postponed\n",
       "4      139  2009-04-06  2009-04-06T18:05:00Z  244205      111  Postponed"
      ]
     },
     "execution_count": 17,
     "metadata": {},
     "output_type": "execute_result"
    }
   ],
   "source": [
    "df.head()"
   ]
  },
  {
   "cell_type": "code",
   "execution_count": 20,
   "metadata": {},
   "outputs": [],
   "source": [
    "df[['gameid','game_end_datetime','game_date','status','away_id','home_id']]\n",
    "df['game_end_datetime'] = df['game_end_datetime'].map(lambda x: x.replace('T',' ').strip('Z'))\n",
    "duplicate_games = df[df['gameid'].duplicated(keep=False)==True]['gameid']\n",
    "df.drop(duplicate_games.index, inplace=True)"
   ]
  },
  {
   "cell_type": "code",
   "execution_count": 46,
   "metadata": {},
   "outputs": [],
   "source": [
    "df = df[['gameid','game_end_datetime','game_date','status','home_id','away_id']]"
   ]
  },
  {
   "cell_type": "code",
   "execution_count": 47,
   "metadata": {},
   "outputs": [
    {
     "data": {
      "text/html": [
       "<div>\n",
       "<style scoped>\n",
       "    .dataframe tbody tr th:only-of-type {\n",
       "        vertical-align: middle;\n",
       "    }\n",
       "\n",
       "    .dataframe tbody tr th {\n",
       "        vertical-align: top;\n",
       "    }\n",
       "\n",
       "    .dataframe thead th {\n",
       "        text-align: right;\n",
       "    }\n",
       "</style>\n",
       "<table border=\"1\" class=\"dataframe\">\n",
       "  <thead>\n",
       "    <tr style=\"text-align: right;\">\n",
       "      <th></th>\n",
       "      <th>gameid</th>\n",
       "      <th>game_end_datetime</th>\n",
       "      <th>game_date</th>\n",
       "      <th>status</th>\n",
       "      <th>home_id</th>\n",
       "      <th>away_id</th>\n",
       "    </tr>\n",
       "  </thead>\n",
       "  <tbody>\n",
       "    <tr>\n",
       "      <th>0</th>\n",
       "      <td>244193</td>\n",
       "      <td>2009-04-06 00:00:00</td>\n",
       "      <td>2009-04-05</td>\n",
       "      <td>Final</td>\n",
       "      <td>143</td>\n",
       "      <td>144</td>\n",
       "    </tr>\n",
       "    <tr>\n",
       "      <th>1</th>\n",
       "      <td>244201</td>\n",
       "      <td>2009-04-06 17:10:00</td>\n",
       "      <td>2009-04-06</td>\n",
       "      <td>Final</td>\n",
       "      <td>113</td>\n",
       "      <td>121</td>\n",
       "    </tr>\n",
       "    <tr>\n",
       "      <th>2</th>\n",
       "      <td>244195</td>\n",
       "      <td>2009-04-06 18:05:00</td>\n",
       "      <td>2009-04-06</td>\n",
       "      <td>Final</td>\n",
       "      <td>140</td>\n",
       "      <td>114</td>\n",
       "    </tr>\n",
       "    <tr>\n",
       "      <th>5</th>\n",
       "      <td>244196</td>\n",
       "      <td>2009-04-06 19:40:00</td>\n",
       "      <td>2009-04-06</td>\n",
       "      <td>Final</td>\n",
       "      <td>109</td>\n",
       "      <td>115</td>\n",
       "    </tr>\n",
       "    <tr>\n",
       "      <th>6</th>\n",
       "      <td>244200</td>\n",
       "      <td>2009-04-06 20:05:00</td>\n",
       "      <td>2009-04-06</td>\n",
       "      <td>Final</td>\n",
       "      <td>110</td>\n",
       "      <td>147</td>\n",
       "    </tr>\n",
       "  </tbody>\n",
       "</table>\n",
       "</div>"
      ],
      "text/plain": [
       "   gameid    game_end_datetime   game_date status  home_id  away_id\n",
       "0  244193  2009-04-06 00:00:00  2009-04-05  Final      143      144\n",
       "1  244201  2009-04-06 17:10:00  2009-04-06  Final      113      121\n",
       "2  244195  2009-04-06 18:05:00  2009-04-06  Final      140      114\n",
       "5  244196  2009-04-06 19:40:00  2009-04-06  Final      109      115\n",
       "6  244200  2009-04-06 20:05:00  2009-04-06  Final      110      147"
      ]
     },
     "execution_count": 47,
     "metadata": {},
     "output_type": "execute_result"
    }
   ],
   "source": [
    "df.head()"
   ]
  },
  {
   "cell_type": "code",
   "execution_count": 2,
   "metadata": {},
   "outputs": [],
   "source": [
    "import mysql.connector as mysql\n",
    "\n",
    "mydb = mysql.connect(\n",
    "  host=config.host,\n",
    "  user=config.admin,\n",
    "  passwd=config.password,\n",
    "  database='MLB_Stats'\n",
    ")\n",
    "\n",
    "mycursor = mydb.cursor()"
   ]
  },
  {
   "cell_type": "code",
   "execution_count": 3,
   "metadata": {},
   "outputs": [],
   "source": [
    "import query_helper"
   ]
  },
  {
   "cell_type": "code",
   "execution_count": 6,
   "metadata": {},
   "outputs": [],
   "source": [
    "query_helper.set_database_name(\"MLB_Stats\")\n",
    "query_helper.connect(\"MLB_Stats\")"
   ]
  },
  {
   "cell_type": "code",
   "execution_count": 7,
   "metadata": {},
   "outputs": [],
   "source": [
    "df_temp = query_helper.query_to_df(\"\"\"select \n",
    "i.home_team_runs + i.away_team_runs as total_runs, i.temp\n",
    "from \n",
    "MLB_Stats.game_info i;\"\"\")"
   ]
  },
  {
   "cell_type": "code",
   "execution_count": 10,
   "metadata": {},
   "outputs": [
    {
     "data": {
      "text/plain": [
       "<matplotlib.axes._subplots.AxesSubplot at 0x113f66908>"
      ]
     },
     "execution_count": 10,
     "metadata": {},
     "output_type": "execute_result"
    },
    {
     "data": {
      "image/png": "[encoded data removed]",
      "text/plain": [
       "<matplotlib.figure.Figure at 0x113e46438>"
      ]
     },
     "metadata": {},
     "output_type": "display_data"
    }
   ],
   "source": [
    "sns.regplot(df_temp['temp'], df_temp['total_runs'])\n"
   ]
  },
  {
   "cell_type": "code",
   "execution_count": 21,
   "metadata": {},
   "outputs": [],
   "source": [
    "temps = df_temp['temp']\n",
    "totals =df_temp['total_runs']\n",
    "\n",
    "temp_std = np.std(temps)\n",
    "total_std = np.std(totals)\n",
    "\n",
    "temp_mean = np.mean(temps)\n",
    "totals_mean = np.mean(totals)\n",
    "\n",
    "temp_diff = temps - temp_mean\n",
    "totals_diff = totals - totals_mean\n",
    "\n",
    "\n",
    "\n",
    "covariance = np.sum(temp_diff * totals_diff)/len(totals_diff)\n",
    "correl_coeff = covariance / (temp_std * total_std)"
   ]
  },
  {
   "cell_type": "code",
   "execution_count": 22,
   "metadata": {},
   "outputs": [
    {
     "data": {
      "text/plain": [
       "(4.107817017414246, 0.08597103126740588)"
      ]
     },
     "execution_count": 22,
     "metadata": {},
     "output_type": "execute_result"
    }
   ],
   "source": [
    "covariance, correl_coeff"
   ]
  },
  {
   "cell_type": "code",
   "execution_count": 23,
   "metadata": {},
   "outputs": [
    {
     "data": {
      "text/plain": [
       "(73.33539759127693, 8.81254511606702)"
      ]
     },
     "execution_count": 23,
     "metadata": {},
     "output_type": "execute_result"
    }
   ],
   "source": [
    "temp_mean, totals_mean"
   ]
  },
  {
   "cell_type": "code",
   "execution_count": 24,
   "metadata": {},
   "outputs": [
    {
     "data": {
      "text/plain": [
       "<matplotlib.axes._subplots.AxesSubplot at 0x113fd3b00>"
      ]
     },
     "execution_count": 24,
     "metadata": {},
     "output_type": "execute_result"
    },
    {
     "data": {
      "image/png": "[encoded data removed]",
      "text/plain": [
       "<matplotlib.figure.Figure at 0x113fd3e10>"
      ]
     },
     "metadata": {},
     "output_type": "display_data"
    }
   ],
   "source": [
    "sns.distplot(temps)"
   ]
  },
  {
   "cell_type": "code",
   "execution_count": 26,
   "metadata": {},
   "outputs": [
    {
     "data": {
      "text/plain": [
       "<matplotlib.axes._subplots.AxesSubplot at 0x1a1db51c18>"
      ]
     },
     "execution_count": 26,
     "metadata": {},
     "output_type": "execute_result"
    },
    {
     "data": {
      "image/png": "[encoded data removed]",
      "text/plain": [
       "<matplotlib.figure.Figure at 0x1a1db29710>"
      ]
     },
     "metadata": {},
     "output_type": "display_data"
    }
   ],
   "source": [
    "sns.distplot(totals)"
   ]
  },
  {
   "cell_type": "code",
   "execution_count": 27,
   "metadata": {},
   "outputs": [
    {
     "data": {
      "text/plain": [
       "LinregressResult(slope=0.035548541177749984, intercept=6.205578715006844, rvalue=0.08597103126740013, pvalue=2.2803020585884567e-44, stderr=0.002539358717834215)"
      ]
     },
     "execution_count": 27,
     "metadata": {},
     "output_type": "execute_result"
    }
   ],
   "source": [
    "scipy_regression = stats.linregress(temps, totals)"
   ]
  },
  {
   "cell_type": "code",
   "execution_count": 29,
   "metadata": {},
   "outputs": [],
   "source": [
    "import statsmodels"
   ]
  },
  {
   "cell_type": "code",
   "execution_count": 31,
   "metadata": {},
   "outputs": [],
   "source": [
    "model = statsmodels.regression.linear_model.OLS(totals, temps)\n",
    "results = model.fit()"
   ]
  },
  {
   "cell_type": "code",
   "execution_count": 37,
   "metadata": {},
   "outputs": [
    {
     "data": {
      "text/html": [
       "<table class=\"simpletable\">\n",
       "<caption>OLS Regression Results</caption>\n",
       "<tr>\n",
       "  <th>Dep. Variable:</th>       <td>total_runs</td>    <th>  R-squared:         </th> <td>   0.790</td> \n",
       "</tr>\n",
       "<tr>\n",
       "  <th>Model:</th>                   <td>OLS</td>       <th>  Adj. R-squared:    </th> <td>   0.790</td> \n",
       "</tr>\n",
       "<tr>\n",
       "  <th>Method:</th>             <td>Least Squares</td>  <th>  F-statistic:       </th> <td>9.924e+04</td>\n",
       "</tr>\n",
       "<tr>\n",
       "  <th>Date:</th>             <td>Thu, 14 Nov 2019</td> <th>  Prob (F-statistic):</th>  <td>  0.00</td>  \n",
       "</tr>\n",
       "<tr>\n",
       "  <th>Time:</th>                 <td>14:44:02</td>     <th>  Log-Likelihood:    </th> <td> -77048.</td> \n",
       "</tr>\n",
       "<tr>\n",
       "  <th>No. Observations:</th>      <td> 26321</td>      <th>  AIC:               </th> <td>1.541e+05</td>\n",
       "</tr>\n",
       "<tr>\n",
       "  <th>Df Residuals:</th>          <td> 26320</td>      <th>  BIC:               </th> <td>1.541e+05</td>\n",
       "</tr>\n",
       "<tr>\n",
       "  <th>Df Model:</th>              <td>     1</td>      <th>                     </th>     <td> </td>    \n",
       "</tr>\n",
       "<tr>\n",
       "  <th>Covariance Type:</th>      <td>nonrobust</td>    <th>                     </th>     <td> </td>    \n",
       "</tr>\n",
       "</table>\n",
       "<table class=\"simpletable\">\n",
       "<tr>\n",
       "    <td></td>      <th>coef</th>     <th>std err</th>      <th>t</th>      <th>P>|t|</th>  <th>[0.025</th>    <th>0.975]</th>  \n",
       "</tr>\n",
       "<tr>\n",
       "  <th>temp</th> <td>    0.1184</td> <td>    0.000</td> <td>  315.020</td> <td> 0.000</td> <td>    0.118</td> <td>    0.119</td>\n",
       "</tr>\n",
       "</table>\n",
       "<table class=\"simpletable\">\n",
       "<tr>\n",
       "  <th>Omnibus:</th>       <td>1881.914</td> <th>  Durbin-Watson:     </th> <td>   1.892</td>\n",
       "</tr>\n",
       "<tr>\n",
       "  <th>Prob(Omnibus):</th>  <td> 0.000</td>  <th>  Jarque-Bera (JB):  </th> <td>2355.812</td>\n",
       "</tr>\n",
       "<tr>\n",
       "  <th>Skew:</th>           <td> 0.675</td>  <th>  Prob(JB):          </th> <td>    0.00</td>\n",
       "</tr>\n",
       "<tr>\n",
       "  <th>Kurtosis:</th>       <td> 3.571</td>  <th>  Cond. No.          </th> <td>    1.00</td>\n",
       "</tr>\n",
       "</table>"
      ],
      "text/plain": [
       "<class 'statsmodels.iolib.summary.Summary'>\n",
       "\"\"\"\n",
       "                            OLS Regression Results                            \n",
       "==============================================================================\n",
       "Dep. Variable:             total_runs   R-squared:                       0.790\n",
       "Model:                            OLS   Adj. R-squared:                  0.790\n",
       "Method:                 Least Squares   F-statistic:                 9.924e+04\n",
       "Date:                Thu, 14 Nov 2019   Prob (F-statistic):               0.00\n",
       "Time:                        14:44:02   Log-Likelihood:                -77048.\n",
       "No. Observations:               26321   AIC:                         1.541e+05\n",
       "Df Residuals:                   26320   BIC:                         1.541e+05\n",
       "Df Model:                           1                                         \n",
       "Covariance Type:            nonrobust                                         \n",
       "==============================================================================\n",
       "                 coef    std err          t      P>|t|      [0.025      0.975]\n",
       "------------------------------------------------------------------------------\n",
       "temp           0.1184      0.000    315.020      0.000       0.118       0.119\n",
       "==============================================================================\n",
       "Omnibus:                     1881.914   Durbin-Watson:                   1.892\n",
       "Prob(Omnibus):                  0.000   Jarque-Bera (JB):             2355.812\n",
       "Skew:                           0.675   Prob(JB):                         0.00\n",
       "Kurtosis:                       3.571   Cond. No.                         1.00\n",
       "==============================================================================\n",
       "\n",
       "Warnings:\n",
       "[1] Standard Errors assume that the covariance matrix of the errors is correctly specified.\n",
       "\"\"\""
      ]
     },
     "execution_count": 37,
     "metadata": {},
     "output_type": "execute_result"
    }
   ],
   "source": [
    "results.summary()"
   ]
  },
  {
   "cell_type": "code",
   "execution_count": null,
   "metadata": {},
   "outputs": [],
   "source": [
    "statsmodels.stats.anova"
   ]
  }
 ],
 "metadata": {
  "kernelspec": {
   "display_name": "Python 3",
   "language": "python",
   "name": "python3"
  },
  "language_info": {
   "codemirror_mode": {
    "name": "ipython",
    "version": 3
   },
   "file_extension": ".py",
   "mimetype": "text/x-python",
   "name": "python",
   "nbconvert_exporter": "python",
   "pygments_lexer": "ipython3",
   "version": "3.6.4"
  }
 },
 "nbformat": 4,
 "nbformat_minor": 2
}
